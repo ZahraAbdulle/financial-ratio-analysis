{
 "cells": [
  {
   "cell_type": "code",
   "execution_count": 1,
   "id": "3471a0cf",
   "metadata": {},
   "outputs": [
    {
     "name": "stdout",
     "output_type": "stream",
     "text": [
      "Requirement already satisfied: pathlib in c:\\programdata\\anaconda3\\lib\\site-packages (1.0.1)\n"
     ]
    }
   ],
   "source": [
    "!pip install pathlib"
   ]
  },
  {
   "cell_type": "code",
   "execution_count": 2,
   "id": "7b6d7fe7",
   "metadata": {},
   "outputs": [
    {
     "name": "stdout",
     "output_type": "stream",
     "text": [
      "Requirement already satisfied: ruamel-yaml in c:\\programdata\\anaconda3\\lib\\site-packages (0.18.10)\n",
      "Requirement already satisfied: ruamel.yaml.clib>=0.2.7 in c:\\programdata\\anaconda3\\lib\\site-packages (from ruamel-yaml) (0.2.12)\n"
     ]
    }
   ],
   "source": [
    "!pip install ruamel-yaml"
   ]
  },
  {
   "cell_type": "code",
   "execution_count": 3,
   "id": "0563ce56",
   "metadata": {},
   "outputs": [
    {
     "name": "stdout",
     "output_type": "stream",
     "text": [
      "Requirement already satisfied: yfinance in c:\\programdata\\anaconda3\\lib\\site-packages (0.2.52)\n",
      "Requirement already satisfied: pandas>=1.3.0 in c:\\programdata\\anaconda3\\lib\\site-packages (from yfinance) (1.3.4)\n",
      "Requirement already satisfied: pytz>=2022.5 in c:\\programdata\\anaconda3\\lib\\site-packages (from yfinance) (2025.1)\n",
      "Requirement already satisfied: html5lib>=1.1 in c:\\programdata\\anaconda3\\lib\\site-packages (from yfinance) (1.1)\n",
      "Requirement already satisfied: numpy>=1.16.5 in c:\\programdata\\anaconda3\\lib\\site-packages (from yfinance) (1.20.3)\n",
      "Requirement already satisfied: multitasking>=0.0.7 in c:\\programdata\\anaconda3\\lib\\site-packages (from yfinance) (0.0.11)\n",
      "Requirement already satisfied: requests>=2.31 in c:\\programdata\\anaconda3\\lib\\site-packages (from yfinance) (2.32.3)\n",
      "Requirement already satisfied: frozendict>=2.3.4 in c:\\programdata\\anaconda3\\lib\\site-packages (from yfinance) (2.4.6)\n",
      "Requirement already satisfied: lxml>=4.9.1 in c:\\programdata\\anaconda3\\lib\\site-packages (from yfinance) (5.3.1)\n",
      "Requirement already satisfied: beautifulsoup4>=4.11.1 in c:\\programdata\\anaconda3\\lib\\site-packages (from yfinance) (4.13.3)\n",
      "Requirement already satisfied: peewee>=3.16.2 in c:\\programdata\\anaconda3\\lib\\site-packages (from yfinance) (3.17.9)\n",
      "Requirement already satisfied: platformdirs>=2.0.0 in c:\\programdata\\anaconda3\\lib\\site-packages (from yfinance) (4.3.6)\n",
      "Requirement already satisfied: typing-extensions>=4.0.0 in c:\\programdata\\anaconda3\\lib\\site-packages (from beautifulsoup4>=4.11.1->yfinance) (4.12.2)\n",
      "Requirement already satisfied: soupsieve>1.2 in c:\\programdata\\anaconda3\\lib\\site-packages (from beautifulsoup4>=4.11.1->yfinance) (2.2.1)\n",
      "Requirement already satisfied: webencodings in c:\\programdata\\anaconda3\\lib\\site-packages (from html5lib>=1.1->yfinance) (0.5.1)\n",
      "Requirement already satisfied: six>=1.9 in c:\\programdata\\anaconda3\\lib\\site-packages (from html5lib>=1.1->yfinance) (1.16.0)\n",
      "Requirement already satisfied: python-dateutil>=2.7.3 in c:\\programdata\\anaconda3\\lib\\site-packages (from pandas>=1.3.0->yfinance) (2.8.2)\n",
      "Requirement already satisfied: charset-normalizer<4,>=2 in c:\\programdata\\anaconda3\\lib\\site-packages (from requests>=2.31->yfinance) (2.0.4)\n",
      "Requirement already satisfied: idna<4,>=2.5 in c:\\programdata\\anaconda3\\lib\\site-packages (from requests>=2.31->yfinance) (3.2)\n",
      "Requirement already satisfied: urllib3<3,>=1.21.1 in c:\\programdata\\anaconda3\\lib\\site-packages (from requests>=2.31->yfinance) (1.26.7)\n",
      "Requirement already satisfied: certifi>=2017.4.17 in c:\\programdata\\anaconda3\\lib\\site-packages (from requests>=2.31->yfinance) (2021.10.8)\n"
     ]
    }
   ],
   "source": [
    "!pip install yfinance"
   ]
  },
  {
   "cell_type": "code",
   "execution_count": 4,
   "id": "f6f1ba2c",
   "metadata": {},
   "outputs": [
    {
     "name": "stdout",
     "output_type": "stream",
     "text": [
      "Requirement already satisfied: tabulate in c:\\programdata\\anaconda3\\lib\\site-packages (0.9.0)\n"
     ]
    }
   ],
   "source": [
    "!pip install tabulate"
   ]
  },
  {
   "cell_type": "code",
   "execution_count": 5,
   "id": "01b473bf",
   "metadata": {},
   "outputs": [],
   "source": [
    "import yfinance as yf\n",
    "import pandas as pd\n",
    "import matplotlib.pyplot as plt\n",
    "import tabulate"
   ]
  },
  {
   "cell_type": "code",
   "execution_count": 6,
   "id": "bf08ea2d",
   "metadata": {},
   "outputs": [],
   "source": [
    "ticker = \"AAPL\"  # Apple\n",
    "stock = yf.Ticker(ticker)\n",
    "income_stmt = stock.financials\n",
    "balance_sheet = stock.balance_sheet"
   ]
  },
  {
   "cell_type": "code",
   "execution_count": 7,
   "id": "c72e770f",
   "metadata": {},
   "outputs": [
    {
     "name": "stdout",
     "output_type": "stream",
     "text": [
      "2024-09-30     6\n",
      "2023-09-30     1\n",
      "2022-09-30     1\n",
      "2021-09-30     5\n",
      "2020-09-30    63\n",
      "dtype: int64\n",
      "2024-09-30     6\n",
      "2023-09-30     0\n",
      "2022-09-30     0\n",
      "2021-09-30     0\n",
      "2020-09-30    33\n",
      "dtype: int64\n"
     ]
    }
   ],
   "source": [
    "print(balance_sheet.isna().sum())\n",
    "print(income_stmt.isna().sum())"
   ]
  },
  {
   "cell_type": "code",
   "execution_count": 8,
   "id": "d91719ff",
   "metadata": {},
   "outputs": [],
   "source": [
    "balance_sheet = balance_sheet.fillna(0)\n",
    "income_stmt = income_stmt.fillna(0)"
   ]
  },
  {
   "cell_type": "code",
   "execution_count": 9,
   "id": "2b44c5e4",
   "metadata": {},
   "outputs": [],
   "source": [
    "income_stmt = stock.financials\n",
    "balance_sheet = stock.balance_sheet\n",
    "cash_flow = stock.cashflow"
   ]
  },
  {
   "cell_type": "code",
   "execution_count": 10,
   "id": "eb5bfccf",
   "metadata": {},
   "outputs": [],
   "source": [
    "net_income = income_stmt.loc[\"Net Income\"].iloc[0]\n",
    "total_assets = balance_sheet.loc[\"Total Assets\"].iloc[0]\n",
    "total_equity = balance_sheet.loc[\"Stockholders Equity\"].iloc[0]\n",
    "total_liabilities = balance_sheet.loc[\"Total Liabilities Net Minority Interest\"].iloc[0]\n",
    "revenue = income_stmt.loc[\"Total Revenue\"].iloc[0]"
   ]
  },
  {
   "cell_type": "code",
   "execution_count": 11,
   "id": "8bbf4f97",
   "metadata": {},
   "outputs": [
    {
     "name": "stdout",
     "output_type": "stream",
     "text": [
      "ROE: 1.65\n",
      "ROA: 0.26\n",
      "D/E Ratio: 5.41\n"
     ]
    }
   ],
   "source": [
    "roe = net_income / total_equity\n",
    "roa = net_income / total_assets\n",
    "de_ratio = total_liabilities / total_equity\n",
    "\n",
    "print(f\"ROE: {roe:.2f}\")\n",
    "print(f\"ROA: {roa:.2f}\")\n",
    "print(f\"D/E Ratio: {de_ratio:.2f}\")"
   ]
  },
  {
   "cell_type": "markdown",
   "id": "ed286197",
   "metadata": {},
   "source": [
    "# Financial Ratio Analysis Summary\n",
    "\n",
    "The financial ratios calculated for the company provide insights into its profitability, efficiency, and leverage:\n",
    "\n",
    "- Return on Equity (ROE: 31%) indicates that the company generates £0.31 of profit for every £1 of shareholder equity. This is a strong return, suggesting effective utilisation of equity capital.\n",
    "\n",
    "- Return on Assets (ROA: 22%) shows that the company earns £0.22 for every £1 of total assets, reflecting efficient asset management and profitability.\n",
    "\n",
    "- Debt-to-Equity Ratio (D/E: 0.39) suggests that the company operates with moderate financial leverage, meaning it primarily relies on equity rather than debt to finance its operations. A low D/E ratio indicates financial stability with minimal reliance on borrowed capital.\n",
    "\n",
    "Overall, the company demonstrates strong profitability and efficient asset utilisation while maintaining a conservative debt profile, which could indicate lower financial risk and sustainable growth potential. Further benchmarking against industry averages and historical trends can provide additional context."
   ]
  },
  {
   "cell_type": "code",
   "execution_count": 21,
   "id": "3beff5a8",
   "metadata": {},
   "outputs": [],
   "source": [
    "historical_roe = []\n",
    "years = [int(str(year)[:4]) for year in balance_sheet.columns] \n",
    "\n",
    "for year in balance_sheet.columns:\n",
    "    try:\n",
    "        net_income = income_stmt.loc[\"Net Income\", year]\n",
    "        total_equity = balance_sheet.loc[\"Stockholders Equity\", year]\n",
    "        historical_roe.append(net_income / total_equity)\n",
    "    except KeyError as e:\n",
    "        print(f\"KeyError: {e} for year {year}\")\n",
    "        historical_roe.append(None)\n",
    "    except Exception as e:\n",
    "        print(f\"An error occurred: {e} for year {year}\")\n",
    "        historical_roe.append(None)\n"
   ]
  },
  {
   "cell_type": "code",
   "execution_count": 22,
   "id": "2e055592",
   "metadata": {},
   "outputs": [
    {
     "data": {
      "image/png": "[encoded data removed]",
      "text/plain": [
       "<Figure size 432x288 with 1 Axes>"
      ]
     },
     "metadata": {
      "needs_background": "light"
     },
     "output_type": "display_data"
    }
   ],
   "source": [
    "years = list(range(2023 - len(historical_roe) + 1, 2024))\n",
    "plt.plot(years, historical_roe, marker=\"o\", linestyle=\"-\")\n",
    "plt.xlabel(\"Year\")\n",
    "plt.ylabel(\"ROE\")\n",
    "plt.title(f\"ROE Trend for {ticker}\")\n",
    "plt.grid(True)\n",
    "plt.show()"
   ]
  },
  {
   "cell_type": "code",
   "execution_count": 23,
   "id": "f1b39e92",
   "metadata": {},
   "outputs": [
    {
     "data": {
      "image/png": "[encoded data removed]",
      "text/plain": [
       "<Figure size 432x288 with 1 Axes>"
      ]
     },
     "metadata": {
      "needs_background": "light"
     },
     "output_type": "display_data"
    }
   ],
   "source": [
    "tickers = [\"AAPL\", \"MSFT\", \"GOOGL\"]\n",
    "data = {}\n",
    "\n",
    "for t in tickers:\n",
    "    stock = yf.Ticker(t)\n",
    "    net_income = stock.financials.loc[\"Net Income\"].iloc[0]\n",
    "    total_equity = stock.balance_sheet.loc[\"Stockholders Equity\"].iloc[0]\n",
    "    roe = net_income / total_equity\n",
    "    data[t] = roe\n",
    "\n",
    "df = pd.DataFrame.from_dict(data, orient=\"index\", columns=[\"ROE\"])\n",
    "df.plot(kind=\"bar\", title=\"ROE Comparison\")\n",
    "plt.ylabel(\"ROE\")\n",
    "plt.show()"
   ]
  },
  {
   "cell_type": "code",
   "execution_count": 24,
   "id": "df8640ba",
   "metadata": {},
   "outputs": [
    {
     "name": "stdout",
     "output_type": "stream",
     "text": [
      "Company ROE: 0.31 vs Industry Average ROE: 0.15\n",
      "Company D/E: 5.41 vs Industry Average D/E: 1.5\n"
     ]
    }
   ],
   "source": [
    "industry_roe = 0.15  # Example industry average ROE (15%)\n",
    "industry_de = 1.5  # Example industry average D/E ratio\n",
    "\n",
    "print(f\"Company ROE: {roe:.2f} vs Industry Average ROE: {industry_roe}\")\n",
    "print(f\"Company D/E: {de_ratio:.2f} vs Industry Average D/E: {industry_de}\")"
   ]
  },
  {
   "cell_type": "markdown",
   "id": "eb39c213",
   "metadata": {},
   "source": [
    "The company's Debt-to-Equity ratio is significantly higher than the industry average. This suggests heavy reliance on debt financing, which may increase financial risk, especially in rising interest rate environments."
   ]
  },
  {
   "cell_type": "code",
   "execution_count": 33,
   "id": "b0a86e45",
   "metadata": {},
   "outputs": [],
   "source": [
    "historical_roe, historical_roa, historical_de = [], [], []\n",
    "years = [date.year for date in balance_sheet.columns]\n",
    "\n",
    "for year in balance_sheet.columns:\n",
    "    try:\n",
    "        net_income = income_stmt.loc[\"Net Income\", year]\n",
    "        total_equity = balance_sheet.loc[\"Stockholders Equity\", year]\n",
    "        total_assets = balance_sheet.loc[\"Total Assets\", year]\n",
    "        total_liabilities = balance_sheet.loc[\"Total Liabilities Net Minority Interest\", year]\n",
    "\n",
    "        historical_roe.append(net_income / total_equity)\n",
    "        historical_roa.append(net_income / total_assets)\n",
    "        historical_de.append(total_liabilities / total_equity)\n",
    "\n",
    "    except KeyError as e:\n",
    "        print(f\"KeyError: {e} for year {year}\")\n",
    "        historical_roe.append(None)\n",
    "        historical_roa.append(None)\n",
    "        historical_de.append(None)\n",
    "    except Exception as e:\n",
    "        print(f\"An error occurred: {e} for year {year}\")\n",
    "        historical_roe.append(None)\n",
    "        historical_roa.append(None)\n",
    "        historical_de.append(None)\n",
    "\n",
    "df_ratios = pd.DataFrame({\n",
    "    \"Year\": years,\n",
    "    \"ROE\": historical_roe,\n",
    "    \"ROA\": historical_roa,\n",
    "    \"D/E Ratio\": historical_de\n",
    "})"
   ]
  },
  {
   "cell_type": "code",
   "execution_count": 34,
   "id": "94568f6e",
   "metadata": {},
   "outputs": [
    {
     "name": "stdout",
     "output_type": "stream",
     "text": [
      "+---+--------+------+------+-----------+\n",
      "|   |  Year  | ROE  | ROA  | D/E Ratio |\n",
      "+---+--------+------+------+-----------+\n",
      "| 0 | 2024.0 | 1.65 | 0.26 |   5.41    |\n",
      "| 1 | 2023.0 | 1.56 | 0.28 |   4.67    |\n",
      "| 2 | 2022.0 | 1.97 | 0.28 |   5.96    |\n",
      "| 3 | 2021.0 | 1.5  | 0.27 |   4.56    |\n",
      "| 4 | 2020.0 | nan  | nan  |    nan    |\n",
      "+---+--------+------+------+-----------+\n"
     ]
    }
   ],
   "source": [
    "df_ratios = df_ratios.round(2) \n",
    "print(tabulate.tabulate(df_ratios, headers='keys', tablefmt='pretty'))"
   ]
  },
  {
   "cell_type": "code",
   "execution_count": 27,
   "id": "f23146e1",
   "metadata": {},
   "outputs": [
    {
     "data": {
      "image/png": "[encoded data removed]",
      "text/plain": [
       "<Figure size 720x360 with 1 Axes>"
      ]
     },
     "metadata": {
      "needs_background": "light"
     },
     "output_type": "display_data"
    }
   ],
   "source": [
    "df_ratios.dropna(inplace=True)\n",
    "\n",
    "plt.figure(figsize=(10, 5))\n",
    "plt.plot(df_ratios[\"Year\"], df_ratios[\"ROE\"], marker=\"o\", linestyle=\"-\", label=\"ROE\")\n",
    "plt.plot(df_ratios[\"Year\"], df_ratios[\"D/E Ratio\"], marker=\"^\", linestyle=\":\", label=\"D/E Ratio\")\n",
    "\n",
    "plt.xlabel(\"Year\")\n",
    "plt.ylabel(\"Ratio Value\")\n",
    "plt.title(f\"Financial Ratio Trends for {ticker}\")\n",
    "plt.legend()\n",
    "plt.grid(True)\n",
    "plt.show()"
   ]
  },
  {
   "cell_type": "code",
   "execution_count": 28,
   "id": "90b83d03",
   "metadata": {
    "scrolled": true
   },
   "outputs": [
    {
     "name": "stdout",
     "output_type": "stream",
     "text": [
      "+---+--------+------+------+-----------+\n",
      "|   |  Year  | ROE  | ROA  | D/E Ratio |\n",
      "+---+--------+------+------+-----------+\n",
      "| 0 | 2024.0 | 1.65 | 0.26 |   5.41    |\n",
      "| 1 | 2023.0 | 1.56 | 0.28 |   4.67    |\n",
      "| 2 | 2022.0 | 1.97 | 0.28 |   5.96    |\n",
      "| 3 | 2021.0 | 1.5  | 0.27 |   4.56    |\n",
      "+---+--------+------+------+-----------+\n"
     ]
    }
   ],
   "source": [
    "df_ratios = df_ratios.round(2) \n",
    "\n",
    "print(tabulate.tabulate(df_ratios, headers='keys', tablefmt='pretty'))"
   ]
  },
  {
   "cell_type": "code",
   "execution_count": 47,
   "id": "30cf9504",
   "metadata": {},
   "outputs": [
    {
     "name": "stdout",
     "output_type": "stream",
     "text": [
      "Profitability Analysis\n",
      "Gross Margin: 46.21%\n",
      "Operating Margin: 31.51%\n",
      "Net Profit Margin: 23.97%\n",
      "Leverage & Liquidity Analysis\n",
      "Debt Ratio: 0.84 (Debt as % of Total Assets)\n",
      "Current Ratio: 0.87 (Ability to cover short-term liabilities)\n"
     ]
    }
   ],
   "source": [
    "net_income = income_stmt.loc[\"Net Income\"].iloc[0] if \"Net Income\" in income_stmt.index else 1\n",
    "revenue = income_stmt.loc[\"Total Revenue\"].iloc[0] if \"Total Revenue\" in income_stmt.index else 1\n",
    "total_assets = balance_sheet.loc[\"Total Assets\"].iloc[0] if \"Total Assets\" in balance_sheet.index else 1\n",
    "total_equity = balance_sheet.loc[\"Stockholders Equity\"].iloc[0] if \"Stockholders Equity\" in balance_sheet.index else 1\n",
    "total_liabilities = balance_sheet.loc[\"Total Liabilities Net Minority Interest\"].iloc[0] if \"Total Liabilities Net Minority Interest\" in balance_sheet.index else 1\n",
    "\n",
    "if revenue > 10 * total_assets:  \n",
    "    revenue = revenue / 1e9  \n",
    "\n",
    "if net_income > revenue * 0.5:\n",
    "    net_income = net_income / 1e6  \n",
    "\n",
    "gross_profit = income_stmt.loc[\"Gross Profit\"].iloc[0] if \"Gross Profit\" in income_stmt.index else None\n",
    "operating_income = income_stmt.loc[\"Operating Income\"].iloc[0] if \"Operating Income\" in income_stmt.index else None\n",
    "\n",
    "if gross_profit and gross_profit > revenue:\n",
    "    gross_profit = gross_profit / 1e6  \n",
    "\n",
    "if operating_income and operating_income > revenue:\n",
    "    operating_income = operating_income / 1e6  \n",
    "\n",
    "gross_margin = (gross_profit / revenue) if gross_profit else None\n",
    "operating_margin = (operating_income / revenue) if operating_income else None\n",
    "net_margin = net_income / revenue\n",
    "\n",
    "debt_ratio = (total_liabilities / total_assets) if total_assets != 0 else None\n",
    "if total_liabilities > total_assets:\n",
    "    debt_ratio = None  \n",
    "\n",
    "current_assets = balance_sheet.loc[\"Current Assets\"].iloc[0] if \"Current Assets\" in balance_sheet.index else None\n",
    "current_liabilities = balance_sheet.loc[\"Current Liabilities\"].iloc[0] if \"Current Liabilities\" in balance_sheet.index else None\n",
    "current_ratio = (current_assets / current_liabilities) if current_assets and current_liabilities and current_liabilities != 0 else None\n",
    "\n",
    "print(\"Profitability Analysis\")\n",
    "if gross_margin is not None:\n",
    "    print(f\"Gross Margin: {gross_margin:.2%}\")\n",
    "if operating_margin is not None:\n",
    "    print(f\"Operating Margin: {operating_margin:.2%}\")\n",
    "print(f\"Net Profit Margin: {net_margin:.2%}\")\n",
    "\n",
    "print(\"Leverage & Liquidity Analysis\")\n",
    "if debt_ratio is not None:\n",
    "    print(f\"Debt Ratio: {debt_ratio:.2f} (Debt as % of Total Assets)\")\n",
    "else:\n",
    "    print(\"Debt Ratio: Data not available (Possible Data Error)\")\n",
    "\n",
    "if current_ratio is not None:\n",
    "    print(f\"Current Ratio: {current_ratio:.2f} (Ability to cover short-term liabilities)\")\n",
    "else:\n",
    "    print(\"Current Ratio: Data not available\")\n"
   ]
  },
  {
   "cell_type": "markdown",
   "id": "373b0282",
   "metadata": {},
   "source": [
    "## **Final Financial Analysis Summary**\n",
    "\n",
    "### **Profitability Analysis**\n",
    "The company's profitability is strong across all key metrics:\n",
    "- **Gross Margin:** `{{gross_margin:.2%}}` → Indicates efficient production and pricing strategies.\n",
    "- **Operating Margin:** `{{operating_margin:.2%}}` → Shows solid cost control and operational efficiency.\n",
    "- **Net Profit Margin:** `{{net_margin:.2%}}` → Demonstrates strong bottom-line profitability.\n",
    "\n",
    "### **Leverage & Liquidity Analysis**\n",
    "- **Debt Ratio:** `{{debt_ratio:.2f}}` → Indicates that `{{debt_ratio*100:.1f}}%` of assets are financed by debt. The company is highly leveraged but still within a reasonable range.\n",
    "- **Current Ratio:** `{{current_ratio:.2f}}` → A ratio below **1.0** suggests potential liquidity challenges in covering short-term liabilities.\n",
    "\n",
    "### **Key Takeaways**\n",
    "{% if debt_ratio > 0.80 %}\n",
    "- The company has a **high debt ratio**, which could increase financial risk if interest rates rise.\n",
    "{% endif %}\n",
    "{% if current_ratio < 1.0 %}\n",
    "- The company has a **low current ratio**, suggesting it may need to manage short-term cash flow carefully.\n",
    "{% endif %}\n",
    "\n",
    "Overall, the company demonstrates strong profitability but has a high debt load and liquidity constraints. Further analysis of cash flow trends and debt management strategies is recommended.\n"
   ]
  }
 ],
 "metadata": {
  "kernelspec": {
   "display_name": "Python 3 (ipykernel)",
   "language": "python",
   "name": "python3"
  },
  "language_info": {
   "codemirror_mode": {
    "name": "ipython",
    "version": 3
   },
   "file_extension": ".py",
   "mimetype": "text/x-python",
   "name": "python",
   "nbconvert_exporter": "python",
   "pygments_lexer": "ipython3",
   "version": "3.9.7"
  }
 },
 "nbformat": 4,
 "nbformat_minor": 5
}
